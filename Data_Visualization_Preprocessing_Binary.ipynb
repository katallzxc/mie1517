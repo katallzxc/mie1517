{
 "cells": [
  {
   "cell_type": "code",
   "execution_count": 1,
   "id": "2387cbef",
   "metadata": {},
   "outputs": [],
   "source": [
    "# import libraries\n",
    "import os\n",
    "import numpy as np\n",
    "import pandas as pd\n",
    "import seaborn as sns\n",
    "from tqdm import tqdm"
   ]
  },
  {
   "cell_type": "code",
   "execution_count": 2,
   "id": "dd6da757",
   "metadata": {},
   "outputs": [],
   "source": [
    "labels_encoder = {0: \"Neutral\", 1: \"Happy\", 2: \"Sad\", 3:\"Surprise\", \n",
    "                  4: \"Fear\", 5: \"Disgust\", 6: \"Anger\", 7: \"Contempt\"}\n",
    "\n",
    "labels_encoder_binary = {0: \"Non-Happy\", 1: \"Happy\"}"
   ]
  },
  {
   "cell_type": "code",
   "execution_count": 3,
   "id": "5efd8b94",
   "metadata": {},
   "outputs": [
    {
     "name": "stderr",
     "output_type": "stream",
     "text": [
      "100%|██████████████████████████████| 1150605/1150605 [00:53<00:00, 21563.10it/s]\n",
      "/home/zian/.local/lib/python3.8/site-packages/seaborn/_decorators.py:36: FutureWarning: Pass the following variable as a keyword arg: x. From version 0.12, the only valid positional argument will be `data`, and passing other arguments without an explicit keyword will result in an error or misinterpretation.\n",
      "  warnings.warn(\n"
     ]
    },
    {
     "name": "stdout",
     "output_type": "stream",
     "text": [
      "<class 'pandas.core.frame.DataFrame'>\n",
      "RangeIndex: 287651 entries, 0 to 287650\n",
      "Data columns (total 2 columns):\n",
      " #   Column  Non-Null Count   Dtype \n",
      "---  ------  --------------   ----- \n",
      " 0   0       287651 non-null  object\n",
      " 1   1       287651 non-null  int32 \n",
      "dtypes: int32(1), object(1)\n",
      "memory usage: 3.3+ MB\n",
      "None\n"
     ]
    },
    {
     "data": {
      "text/plain": [
       "<AxesSubplot:xlabel='1', ylabel='count'>"
      ]
     },
     "execution_count": 3,
     "metadata": {},
     "output_type": "execute_result"
    },
    {
     "data": {
      "image/png": "[encoded data removed]",
      "text/plain": [
       "<Figure size 432x288 with 1 Axes>"
      ]
     },
     "metadata": {
      "needs_background": "light"
     },
     "output_type": "display_data"
    }
   ],
   "source": [
    "# train set data visualization\n",
    "labels_dir = './data/train_set/annotations/'\n",
    "labels_data = []\n",
    "for filename in tqdm(os.listdir(labels_dir)):\n",
    "    if filename.endswith('_exp.npy'):\n",
    "        labels_data.append([filename.replace('_exp.npy','.jpg'), np.load(labels_dir+filename).item()])\n",
    "labels_df = pd.DataFrame(labels_data)\n",
    "labels_df[1] = labels_df[1].astype('int32')\n",
    "print(labels_df.info())\n",
    "\n",
    "# plot data architecture\n",
    "sns.countplot(labels_df[1].map(labels_encoder))"
   ]
  },
  {
   "cell_type": "code",
   "execution_count": 4,
   "id": "d6cd4161",
   "metadata": {},
   "outputs": [
    {
     "name": "stderr",
     "output_type": "stream",
     "text": [
      "/home/zian/.local/lib/python3.8/site-packages/seaborn/_decorators.py:36: FutureWarning: Pass the following variable as a keyword arg: x. From version 0.12, the only valid positional argument will be `data`, and passing other arguments without an explicit keyword will result in an error or misinterpretation.\n",
      "  warnings.warn(\n"
     ]
    },
    {
     "data": {
      "text/plain": [
       "<AxesSubplot:xlabel='1', ylabel='count'>"
      ]
     },
     "execution_count": 4,
     "metadata": {},
     "output_type": "execute_result"
    },
    {
     "data": {
      "image/png": "[encoded data removed]",
      "text/plain": [
       "<Figure size 432x288 with 1 Axes>"
      ]
     },
     "metadata": {
      "needs_background": "light"
     },
     "output_type": "display_data"
    }
   ],
   "source": [
    "# create a balanced train set for training\n",
    "# count the min number of samples in each category\n",
    "min_num = labels_df[1].value_counts().min()\n",
    "# min_num = 50 # for sanity check\n",
    "\n",
    "# determine the number of samples in each category for balanced set\n",
    "happy_num = min_num*7\n",
    "nonhappy_num = min_num\n",
    "\n",
    "# select happy samples\n",
    "happy_df = labels_df[labels_df[1]==1].iloc[:happy_num]\n",
    "\n",
    "# collect nonhappy samples\n",
    "label_0_df = labels_df[labels_df[1]==0].iloc[:nonhappy_num]\n",
    "label_2_df = labels_df[labels_df[1]==2].iloc[:nonhappy_num]\n",
    "label_3_df = labels_df[labels_df[1]==3].iloc[:nonhappy_num]\n",
    "label_4_df = labels_df[labels_df[1]==4].iloc[:nonhappy_num]\n",
    "label_5_df = labels_df[labels_df[1]==5].iloc[:nonhappy_num]\n",
    "label_6_df = labels_df[labels_df[1]==6].iloc[:nonhappy_num]\n",
    "label_7_df = labels_df[labels_df[1]==7].iloc[:nonhappy_num]\n",
    "nonhappy_df = pd.concat([label_0_df,label_2_df,label_3_df,label_4_df,label_5_df,label_6_df,label_7_df])\n",
    "nonhappy_df[1] = 0\n",
    "\n",
    "# create a balanced dataframe\n",
    "balanced_df = pd.concat([happy_df,nonhappy_df])\n",
    "\n",
    "# plot data architecture\n",
    "sns.countplot(balanced_df[1].map(labels_encoder_binary))"
   ]
  },
  {
   "cell_type": "code",
   "execution_count": 5,
   "id": "678bbff8",
   "metadata": {},
   "outputs": [
    {
     "name": "stdout",
     "output_type": "stream",
     "text": [
      "labels.csv created at ./data/train_set/annotations/\n"
     ]
    }
   ],
   "source": [
    "balanced_df.to_csv(labels_dir+'labels.csv', index=False)\n",
    "print(\"labels.csv created at \"+labels_dir)"
   ]
  },
  {
   "cell_type": "code",
   "execution_count": 6,
   "id": "c5934bba",
   "metadata": {},
   "outputs": [
    {
     "name": "stderr",
     "output_type": "stream",
     "text": [
      "100%|██████████████████████████████████| 15997/15997 [00:00<00:00, 20565.49it/s]\n",
      "/home/zian/.local/lib/python3.8/site-packages/seaborn/_decorators.py:36: FutureWarning: Pass the following variable as a keyword arg: x. From version 0.12, the only valid positional argument will be `data`, and passing other arguments without an explicit keyword will result in an error or misinterpretation.\n",
      "  warnings.warn(\n"
     ]
    },
    {
     "name": "stdout",
     "output_type": "stream",
     "text": [
      "<class 'pandas.core.frame.DataFrame'>\n",
      "RangeIndex: 3999 entries, 0 to 3998\n",
      "Data columns (total 2 columns):\n",
      " #   Column  Non-Null Count  Dtype \n",
      "---  ------  --------------  ----- \n",
      " 0   0       3999 non-null   object\n",
      " 1   1       3999 non-null   int32 \n",
      "dtypes: int32(1), object(1)\n",
      "memory usage: 47.0+ KB\n",
      "None\n"
     ]
    },
    {
     "data": {
      "text/plain": [
       "<AxesSubplot:xlabel='1', ylabel='count'>"
      ]
     },
     "execution_count": 6,
     "metadata": {},
     "output_type": "execute_result"
    },
    {
     "data": {
      "image/png": "[encoded data removed]",
      "text/plain": [
       "<Figure size 432x288 with 1 Axes>"
      ]
     },
     "metadata": {
      "needs_background": "light"
     },
     "output_type": "display_data"
    }
   ],
   "source": [
    "# valid set data visualization\n",
    "labels_dir = './data/val_set/annotations/'\n",
    "labels_data = []\n",
    "for filename in tqdm(os.listdir(labels_dir)):\n",
    "    if filename.endswith('_exp.npy'):\n",
    "        labels_data.append([filename.replace('_exp.npy','.jpg'), np.load(labels_dir+filename).item()])\n",
    "labels_df = pd.DataFrame(labels_data)\n",
    "labels_df[1] = labels_df[1].astype('int32')\n",
    "print(labels_df.info())\n",
    "\n",
    "# plot data architecture\n",
    "sns.countplot(labels_df[1].map(labels_encoder))"
   ]
  },
  {
   "cell_type": "code",
   "execution_count": 7,
   "id": "88fbb91d",
   "metadata": {},
   "outputs": [
    {
     "name": "stderr",
     "output_type": "stream",
     "text": [
      "/home/zian/.local/lib/python3.8/site-packages/seaborn/_decorators.py:36: FutureWarning: Pass the following variable as a keyword arg: x. From version 0.12, the only valid positional argument will be `data`, and passing other arguments without an explicit keyword will result in an error or misinterpretation.\n",
      "  warnings.warn(\n"
     ]
    },
    {
     "data": {
      "text/plain": [
       "<AxesSubplot:xlabel='1', ylabel='count'>"
      ]
     },
     "execution_count": 7,
     "metadata": {},
     "output_type": "execute_result"
    },
    {
     "data": {
      "image/png": "[encoded data removed]",
      "text/plain": [
       "<Figure size 432x288 with 1 Axes>"
      ]
     },
     "metadata": {
      "needs_background": "light"
     },
     "output_type": "display_data"
    }
   ],
   "source": [
    "# create a balanced val set for validation\n",
    "\n",
    "# determine the number of samples in each category for balanced set\n",
    "happy_num = 490\n",
    "nonhappy_num = 70\n",
    "\n",
    "# select happy samples\n",
    "happy_df = labels_df[labels_df[1]==1].iloc[:happy_num]\n",
    "\n",
    "# collect nonhappy samples\n",
    "label_0_df = labels_df[labels_df[1]==0].iloc[:nonhappy_num]\n",
    "label_2_df = labels_df[labels_df[1]==2].iloc[:nonhappy_num]\n",
    "label_3_df = labels_df[labels_df[1]==3].iloc[:nonhappy_num]\n",
    "label_4_df = labels_df[labels_df[1]==4].iloc[:nonhappy_num]\n",
    "label_5_df = labels_df[labels_df[1]==5].iloc[:nonhappy_num]\n",
    "label_6_df = labels_df[labels_df[1]==6].iloc[:nonhappy_num]\n",
    "label_7_df = labels_df[labels_df[1]==7].iloc[:nonhappy_num]\n",
    "nonhappy_df = pd.concat([label_0_df,label_2_df,label_3_df,label_4_df,label_5_df,label_6_df,label_7_df])\n",
    "nonhappy_df[1] = 0\n",
    "\n",
    "# create a balanced dataframe\n",
    "balanced_df = pd.concat([happy_df,nonhappy_df])\n",
    "\n",
    "# plot data architecture\n",
    "sns.countplot(balanced_df[1].map(labels_encoder_binary))"
   ]
  },
  {
   "cell_type": "code",
   "execution_count": 8,
   "id": "e2150caf",
   "metadata": {},
   "outputs": [
    {
     "name": "stdout",
     "output_type": "stream",
     "text": [
      "labels.csv created at ./data/val_set/annotations/\n"
     ]
    }
   ],
   "source": [
    "balanced_df.to_csv(labels_dir+'labels.csv', index=False)\n",
    "print(\"labels.csv created at \"+labels_dir)"
   ]
  },
  {
   "cell_type": "code",
   "execution_count": 9,
   "id": "621c0d73",
   "metadata": {},
   "outputs": [],
   "source": [
    "# create test set from fer_ckplus_kdef dataset\n",
    "# fer_ckplus_kdef dataset can be found here: https://www.kaggle.com/sudarshanvaidya/corrective-reannotation-of-fer-ck-kdef\n",
    "!cp -a ./data/fer_ckplus_kdef/neutrality/. ./data/test_set/images/\n",
    "!cp -a ./data/fer_ckplus_kdef/happiness/. ./data/test_set/images/\n",
    "!cp -a ./data/fer_ckplus_kdef/sadness/. ./data/test_set/images/\n",
    "!cp -a ./data/fer_ckplus_kdef/surprise/. ./data/test_set/images/\n",
    "!cp -a ./data/fer_ckplus_kdef/fear/. ./data/test_set/images/\n",
    "!cp -a ./data/fer_ckplus_kdef/disgust/. ./data/test_set/images/\n",
    "!cp -a ./data/fer_ckplus_kdef/anger/. ./data/test_set/images/\n",
    "!cp -a ./data/fer_ckplus_kdef/contempt/. ./data/test_set/images/"
   ]
  },
  {
   "cell_type": "code",
   "execution_count": 10,
   "id": "cc0fcc38",
   "metadata": {},
   "outputs": [
    {
     "name": "stdout",
     "output_type": "stream",
     "text": [
      "<class 'pandas.core.frame.DataFrame'>\n",
      "RangeIndex: 32854 entries, 0 to 32853\n",
      "Data columns (total 2 columns):\n",
      " #   Column  Non-Null Count  Dtype \n",
      "---  ------  --------------  ----- \n",
      " 0   0       32854 non-null  object\n",
      " 1   1       32854 non-null  int32 \n",
      "dtypes: int32(1), object(1)\n",
      "memory usage: 385.1+ KB\n",
      "None\n"
     ]
    },
    {
     "name": "stderr",
     "output_type": "stream",
     "text": [
      "/home/zian/.local/lib/python3.8/site-packages/seaborn/_decorators.py:36: FutureWarning: Pass the following variable as a keyword arg: x. From version 0.12, the only valid positional argument will be `data`, and passing other arguments without an explicit keyword will result in an error or misinterpretation.\n",
      "  warnings.warn(\n"
     ]
    },
    {
     "data": {
      "text/plain": [
       "<AxesSubplot:xlabel='1', ylabel='count'>"
      ]
     },
     "execution_count": 10,
     "metadata": {},
     "output_type": "execute_result"
    },
    {
     "data": {
      "image/png": "[encoded data removed]",
      "text/plain": [
       "<Figure size 432x288 with 1 Axes>"
      ]
     },
     "metadata": {
      "needs_background": "light"
     },
     "output_type": "display_data"
    }
   ],
   "source": [
    "# test set data visualization\n",
    "data_path = './data/fer_ckplus_kdef/'\n",
    "labels_path = {'neutrality/': 0, 'happiness/': 1, 'sadness/': 2, 'surprise/': 3, \n",
    "               'fear/': 4, 'disgust/': 5, 'anger/': 6, 'contempt/': 7}\n",
    "\n",
    "labels_data = []\n",
    "for label in labels_path:\n",
    "    labels_dir = os.path.join(data_path, label)\n",
    "    for filename in os.listdir(labels_dir):\n",
    "        if filename.endswith('.png'):\n",
    "            labels_data.append([filename, labels_path[label]])\n",
    "labels_df = pd.DataFrame(labels_data)\n",
    "labels_df[1] = labels_df[1].astype('int32')\n",
    "print(labels_df.info())\n",
    "\n",
    "# plot data architecture\n",
    "sns.countplot(labels_df[1].map(labels_encoder))"
   ]
  },
  {
   "cell_type": "code",
   "execution_count": 11,
   "id": "bb9506e7",
   "metadata": {},
   "outputs": [
    {
     "name": "stderr",
     "output_type": "stream",
     "text": [
      "/home/zian/.local/lib/python3.8/site-packages/seaborn/_decorators.py:36: FutureWarning: Pass the following variable as a keyword arg: x. From version 0.12, the only valid positional argument will be `data`, and passing other arguments without an explicit keyword will result in an error or misinterpretation.\n",
      "  warnings.warn(\n"
     ]
    },
    {
     "data": {
      "text/plain": [
       "<AxesSubplot:xlabel='1', ylabel='count'>"
      ]
     },
     "execution_count": 11,
     "metadata": {},
     "output_type": "execute_result"
    },
    {
     "data": {
      "image/png": "[encoded data removed]",
      "text/plain": [
       "<Figure size 432x288 with 1 Axes>"
      ]
     },
     "metadata": {
      "needs_background": "light"
     },
     "output_type": "display_data"
    }
   ],
   "source": [
    "# create a balanced val set for validation\n",
    "\n",
    "# determine the number of samples in each category for balanced set\n",
    "nonhappy_num = 130\n",
    "happy_num = nonhappy_num*7\n",
    "\n",
    "# select happy samples\n",
    "happy_df = labels_df[labels_df[1]==1].iloc[:happy_num]\n",
    "\n",
    "# collect nonhappy samples\n",
    "label_0_df = labels_df[labels_df[1]==0].iloc[:nonhappy_num]\n",
    "label_2_df = labels_df[labels_df[1]==2].iloc[:nonhappy_num]\n",
    "label_3_df = labels_df[labels_df[1]==3].iloc[:nonhappy_num]\n",
    "label_4_df = labels_df[labels_df[1]==4].iloc[:nonhappy_num]\n",
    "label_5_df = labels_df[labels_df[1]==5].iloc[:nonhappy_num]\n",
    "label_6_df = labels_df[labels_df[1]==6].iloc[:nonhappy_num]\n",
    "label_7_df = labels_df[labels_df[1]==7].iloc[:nonhappy_num]\n",
    "nonhappy_df = pd.concat([label_0_df,label_2_df,label_3_df,label_4_df,label_5_df,label_6_df,label_7_df])\n",
    "nonhappy_df[1] = 0\n",
    "\n",
    "# create a balanced dataframe\n",
    "balanced_df = pd.concat([happy_df,nonhappy_df])\n",
    "\n",
    "# plot data architecture\n",
    "sns.countplot(balanced_df[1].map(labels_encoder_binary))"
   ]
  },
  {
   "cell_type": "code",
   "execution_count": 12,
   "id": "12bdac49",
   "metadata": {},
   "outputs": [
    {
     "name": "stdout",
     "output_type": "stream",
     "text": [
      "labels.csv created at ./data/test_set/annotations/\n"
     ]
    }
   ],
   "source": [
    "labels_dir = './data/test_set/annotations/'\n",
    "balanced_df.to_csv(labels_dir+'labels.csv', index=False)\n",
    "print(\"labels.csv created at \"+labels_dir)"
   ]
  },
  {
   "cell_type": "code",
   "execution_count": null,
   "id": "fe8b48a8",
   "metadata": {},
   "outputs": [],
   "source": []
  }
 ],
 "metadata": {
  "kernelspec": {
   "display_name": "Python 3 (ipykernel)",
   "language": "python",
   "name": "python3"
  },
  "language_info": {
   "codemirror_mode": {
    "name": "ipython",
    "version": 3
   },
   "file_extension": ".py",
   "mimetype": "text/x-python",
   "name": "python",
   "nbconvert_exporter": "python",
   "pygments_lexer": "ipython3",
   "version": "3.8.12"
  }
 },
 "nbformat": 4,
 "nbformat_minor": 5
}

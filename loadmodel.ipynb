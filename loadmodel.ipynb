{
  "nbformat": 4,
  "nbformat_minor": 0,
  "metadata": {
    "colab": {
      "name": "loadmodel.ipynb",
      "provenance": [],
      "collapsed_sections": []
    },
    "kernelspec": {
      "name": "python3",
      "display_name": "Python 3"
    },
    "language_info": {
      "name": "python"
    },
    "accelerator": "GPU"
  },
  "cells": [
    {
      "cell_type": "code",
      "metadata": {
        "colab": {
          "base_uri": "https://localhost:8080/"
        },
        "id": "O6jxXmUNG1pi",
        "outputId": "bc1c38a6-806a-4a4b-c056-c2eb94f8566e"
      },
      "source": [
        "!gdown --id '1zjKmpC-DA6eWmxTObNk-yEw-dsFzg64b'\n"
      ],
      "execution_count": 90,
      "outputs": [
        {
          "output_type": "stream",
          "name": "stdout",
          "text": [
            "Downloading...\n",
            "From: https://drive.google.com/uc?id=1zjKmpC-DA6eWmxTObNk-yEw-dsFzg64b\n",
            "To: /content/drive/My Drive/ganimation_replicate/ganimation_replicate.zip\n",
            "100% 1.86G/1.86G [00:17<00:00, 104MB/s]\n"
          ]
        }
      ]
    },
    {
      "cell_type": "code",
      "metadata": {
        "id": "f89oZIbVsf87"
      },
      "source": [
        "from google.colab import files\n",
        "import zipfile\n",
        "zip_ref = zipfile.ZipFile('/content/drive/My Drive/ganimation_replicate/ganimation_replicate.zip', 'r') \n",
        "zip_ref.extractall('/content') \n",
        "zip_ref.close()"
      ],
      "execution_count": 92,
      "outputs": []
    },
    {
      "cell_type": "code",
      "metadata": {
        "id": "WyCRsI03Jclb"
      },
      "source": [
        "import os\n",
        "os.chdir(\"/content/ganimation_replicate\")"
      ],
      "execution_count": 94,
      "outputs": []
    },
    {
      "cell_type": "code",
      "metadata": {
        "id": "XhiX1CgpJ03n"
      },
      "source": [
        "from base_model import BaseModel\n",
        "from ganimation import GANimationModel"
      ],
      "execution_count": 95,
      "outputs": []
    },
    {
      "cell_type": "code",
      "metadata": {
        "id": "g2KIhSJCl4Ox"
      },
      "source": [
        "class Namespace:\n",
        "    def __init__(self, **kwargs):\n",
        "        self.__dict__.update(kwargs)\n",
        "opt= Namespace(aus_nc=17, aus_pkl='aus_openface.pkl', batch_size=10, beta1=0.5, ckpt_dir='ckpts/celebA/ganimation/190327_161852/', data_root='datasets/celebA', epoch_count=1, final_size=128, gan_type='wgan-gp', gpu_ids=[], img_nc=3, imgs_dir='imgs', init_gain=0.02, init_type='normal', interpolate_len=5, lambda_aus=160.0, lambda_dis=1.0, lambda_mask=0, lambda_rec=10.0, lambda_tv=0, lambda_wgan_gp=10.0, load_epoch=30, load_size=148, log_file='logs.txt', lr=0.0001, lr_decay_iters=50, lr_policy='lambda', lucky_seed=1637713293, max_dataset_size=150, mode='test', model='ganimation', n_threads=6, name='211123_192133', ndf=64, ngf=64, niter=20, niter_decay=10, no_aus_noise=False, no_flip=False, no_test_eval=False, norm='instance', opt_file='opt.txt', plot_losses_freq=20000, print_losses_freq=100, resize_or_crop='none', results='results/celebA_ganimation_30', sample_img_freq=2000, save_epoch_freq=2, save_test_gif=False, serial_batches=False, test_csv='test_ids.csv', train_csv='train_ids.csv', train_gen_iter=5, use_dropout=False, visdom_display_id=0, visdom_env='main', visdom_port=8097)\n",
        "\n"
      ],
      "execution_count": 96,
      "outputs": []
    },
    {
      "cell_type": "code",
      "metadata": {
        "id": "yu7dVbo-l8xn"
      },
      "source": [
        "model_path = '/content/drive/MyDrive/ganimation_replicate/ckpts/celebA/ganimation/190327_161852/30_net_gen.pth'\n",
        "state = torch.load(model_path)"
      ],
      "execution_count": 97,
      "outputs": []
    },
    {
      "cell_type": "code",
      "metadata": {
        "id": "BLK_X4q2J_f9",
        "colab": {
          "base_uri": "https://localhost:8080/"
        },
        "outputId": "f7780b4a-e34c-4a0b-9f64-0e41ce2b1974"
      },
      "source": [
        "net=  GANimationModel()\n",
        "net.initialize(opt)\n",
        "net = getattr(net, 'net_'+'gen')\n",
        "net.load_state_dict(state)"
      ],
      "execution_count": 98,
      "outputs": [
        {
          "output_type": "stream",
          "name": "stdout",
          "text": [
            "initialize network with normal\n",
            "[Info] Successfully load trained weights for net_gen.\n"
          ]
        },
        {
          "output_type": "execute_result",
          "data": {
            "text/plain": [
              "<All keys matched successfully>"
            ]
          },
          "metadata": {},
          "execution_count": 98
        }
      ]
    }
  ]
}
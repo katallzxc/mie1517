{
  "nbformat": 4,
  "nbformat_minor": 0,
  "metadata": {
    "colab": {
      "name": "loadnet.ipynb",
      "provenance": []
    },
    "kernelspec": {
      "name": "python3",
      "display_name": "Python 3"
    },
    "language_info": {
      "name": "python"
    }
  },
  "cells": [
    {
      "cell_type": "code",
      "metadata": {
        "colab": {
          "base_uri": "https://localhost:8080/"
        },
        "id": "52k3uemWyVv9",
        "outputId": "fe51222b-2043-4222-9734-6660e7f5b3b5"
      },
      "source": [
        "!gdown --id '1Y-1r9uY8ciTUlj6-mUkn2MeKVoeMskts'"
      ],
      "execution_count": 1,
      "outputs": [
        {
          "output_type": "stream",
          "name": "stdout",
          "text": [
            "Downloading...\n",
            "From: https://drive.google.com/uc?id=1Y-1r9uY8ciTUlj6-mUkn2MeKVoeMskts\n",
            "To: /content/ganimation_replicate.zip\n",
            "100% 2.10G/2.10G [00:13<00:00, 156MB/s]\n"
          ]
        }
      ]
    },
    {
      "cell_type": "markdown",
      "metadata": {
        "id": "h7GTnqgny5XM"
      },
      "source": [
        "Note the source code was disgined specifcly for terminal, I modify several things in the source code so that it can also work in python sell, you may not be able to run it in terminal directly with the file inganimation_replicate.zip."
      ]
    },
    {
      "cell_type": "code",
      "metadata": {
        "id": "tyYZEhVCyeLh"
      },
      "source": [
        "from google.colab import files\n",
        "import zipfile\n",
        "zip_ref = zipfile.ZipFile('/content/ganimation_replicate.zip', 'r') \n",
        "zip_ref.extractall('/content') \n",
        "zip_ref.close()"
      ],
      "execution_count": 2,
      "outputs": []
    },
    {
      "cell_type": "code",
      "metadata": {
        "id": "H61KpSsHyj9J"
      },
      "source": [
        "import os\n",
        "os.chdir(\"/content/ganimation_replicate/model\")"
      ],
      "execution_count": 5,
      "outputs": []
    },
    {
      "cell_type": "code",
      "metadata": {
        "id": "HJvUGW_OynTz"
      },
      "source": [
        "from base_model import BaseModel\n",
        "from ganimation import GANimationModel"
      ],
      "execution_count": 6,
      "outputs": []
    },
    {
      "cell_type": "code",
      "metadata": {
        "id": "_DX92x0syrTM"
      },
      "source": [
        "class Namespace:\n",
        "    def __init__(self, **kwargs):\n",
        "        self.__dict__.update(kwargs)\n",
        "opt= Namespace(aus_nc=17, aus_pkl='aus_openface.pkl', batch_size=10, beta1=0.5, ckpt_dir='ckpts/celebA/ganimation/190327_161852/', data_root='datasets/celebA', epoch_count=1, final_size=128, gan_type='wgan-gp', gpu_ids=[], img_nc=3, imgs_dir='imgs', init_gain=0.02, init_type='normal', interpolate_len=5, lambda_aus=160.0, lambda_dis=1.0, lambda_mask=0, lambda_rec=10.0, lambda_tv=0, lambda_wgan_gp=10.0, load_epoch=30, load_size=148, log_file='logs.txt', lr=0.0001, lr_decay_iters=50, lr_policy='lambda', lucky_seed=1637713293, max_dataset_size=150, mode='test', model='ganimation', n_threads=6, name='211123_192133', ndf=64, ngf=64, niter=20, niter_decay=10, no_aus_noise=False, no_flip=False, no_test_eval=False, norm='instance', opt_file='opt.txt', plot_losses_freq=20000, print_losses_freq=100, resize_or_crop='none', results='results/celebA_ganimation_30', sample_img_freq=2000, save_epoch_freq=2, save_test_gif=False, serial_batches=False, test_csv='test_ids.csv', train_csv='train_ids.csv', train_gen_iter=5, use_dropout=False, visdom_display_id=0, visdom_env='main', visdom_port=8097)\n"
      ],
      "execution_count": 7,
      "outputs": []
    },
    {
      "cell_type": "code",
      "metadata": {
        "id": "nrEK6cO0ytTW"
      },
      "source": [
        "import torch\n",
        "model_path = '/content/ganimation_replicate/ckpts/celebA/ganimation/190327_161852/30_net_gen.pth'\n",
        "state = torch.load(model_path)"
      ],
      "execution_count": 8,
      "outputs": []
    },
    {
      "cell_type": "code",
      "metadata": {
        "colab": {
          "base_uri": "https://localhost:8080/"
        },
        "id": "9snON1bPywk9",
        "outputId": "5541b507-9c01-43d0-918c-f32d6a53c34d"
      },
      "source": [
        "os.chdir(\"/content/ganimation_replicate\")\n",
        "net=  GANimationModel()\n",
        "net.initialize(opt)\n",
        "net = getattr(net, 'net_'+'gen')\n",
        "net.load_state_dict(state)"
      ],
      "execution_count": 10,
      "outputs": [
        {
          "output_type": "stream",
          "name": "stdout",
          "text": [
            "initialize network with normal\n",
            "[Info] Successfully load trained weights for net_gen.\n"
          ]
        },
        {
          "output_type": "execute_result",
          "data": {
            "text/plain": [
              "<All keys matched successfully>"
            ]
          },
          "metadata": {},
          "execution_count": 10
        }
      ]
    },
    {
      "cell_type": "code",
      "metadata": {
        "colab": {
          "base_uri": "https://localhost:8080/"
        },
        "id": "PywXk22WzewY",
        "outputId": "4d830f2d-c6be-4a77-e20b-7ab2f292657c"
      },
      "source": [
        "net"
      ],
      "execution_count": 11,
      "outputs": [
        {
          "output_type": "execute_result",
          "data": {
            "text/plain": [
              "SplitGenerator(\n",
              "  (model): Sequential(\n",
              "    (0): Conv2d(20, 64, kernel_size=(7, 7), stride=(1, 1), padding=(3, 3))\n",
              "    (1): InstanceNorm2d(64, eps=1e-05, momentum=0.1, affine=False, track_running_stats=False)\n",
              "    (2): ReLU(inplace=True)\n",
              "    (3): Conv2d(64, 128, kernel_size=(4, 4), stride=(2, 2), padding=(1, 1))\n",
              "    (4): InstanceNorm2d(128, eps=1e-05, momentum=0.1, affine=False, track_running_stats=False)\n",
              "    (5): ReLU(inplace=True)\n",
              "    (6): Conv2d(128, 256, kernel_size=(4, 4), stride=(2, 2), padding=(1, 1))\n",
              "    (7): InstanceNorm2d(256, eps=1e-05, momentum=0.1, affine=False, track_running_stats=False)\n",
              "    (8): ReLU(inplace=True)\n",
              "    (9): ResnetBlock(\n",
              "      (conv_block): Sequential(\n",
              "        (0): Conv2d(256, 256, kernel_size=(3, 3), stride=(1, 1), padding=(1, 1))\n",
              "        (1): InstanceNorm2d(256, eps=1e-05, momentum=0.1, affine=False, track_running_stats=False)\n",
              "        (2): ReLU(inplace=True)\n",
              "        (3): Conv2d(256, 256, kernel_size=(3, 3), stride=(1, 1), padding=(1, 1))\n",
              "        (4): InstanceNorm2d(256, eps=1e-05, momentum=0.1, affine=False, track_running_stats=False)\n",
              "      )\n",
              "    )\n",
              "    (10): ResnetBlock(\n",
              "      (conv_block): Sequential(\n",
              "        (0): Conv2d(256, 256, kernel_size=(3, 3), stride=(1, 1), padding=(1, 1))\n",
              "        (1): InstanceNorm2d(256, eps=1e-05, momentum=0.1, affine=False, track_running_stats=False)\n",
              "        (2): ReLU(inplace=True)\n",
              "        (3): Conv2d(256, 256, kernel_size=(3, 3), stride=(1, 1), padding=(1, 1))\n",
              "        (4): InstanceNorm2d(256, eps=1e-05, momentum=0.1, affine=False, track_running_stats=False)\n",
              "      )\n",
              "    )\n",
              "    (11): ResnetBlock(\n",
              "      (conv_block): Sequential(\n",
              "        (0): Conv2d(256, 256, kernel_size=(3, 3), stride=(1, 1), padding=(1, 1))\n",
              "        (1): InstanceNorm2d(256, eps=1e-05, momentum=0.1, affine=False, track_running_stats=False)\n",
              "        (2): ReLU(inplace=True)\n",
              "        (3): Conv2d(256, 256, kernel_size=(3, 3), stride=(1, 1), padding=(1, 1))\n",
              "        (4): InstanceNorm2d(256, eps=1e-05, momentum=0.1, affine=False, track_running_stats=False)\n",
              "      )\n",
              "    )\n",
              "    (12): ResnetBlock(\n",
              "      (conv_block): Sequential(\n",
              "        (0): Conv2d(256, 256, kernel_size=(3, 3), stride=(1, 1), padding=(1, 1))\n",
              "        (1): InstanceNorm2d(256, eps=1e-05, momentum=0.1, affine=False, track_running_stats=False)\n",
              "        (2): ReLU(inplace=True)\n",
              "        (3): Conv2d(256, 256, kernel_size=(3, 3), stride=(1, 1), padding=(1, 1))\n",
              "        (4): InstanceNorm2d(256, eps=1e-05, momentum=0.1, affine=False, track_running_stats=False)\n",
              "      )\n",
              "    )\n",
              "    (13): ResnetBlock(\n",
              "      (conv_block): Sequential(\n",
              "        (0): Conv2d(256, 256, kernel_size=(3, 3), stride=(1, 1), padding=(1, 1))\n",
              "        (1): InstanceNorm2d(256, eps=1e-05, momentum=0.1, affine=False, track_running_stats=False)\n",
              "        (2): ReLU(inplace=True)\n",
              "        (3): Conv2d(256, 256, kernel_size=(3, 3), stride=(1, 1), padding=(1, 1))\n",
              "        (4): InstanceNorm2d(256, eps=1e-05, momentum=0.1, affine=False, track_running_stats=False)\n",
              "      )\n",
              "    )\n",
              "    (14): ResnetBlock(\n",
              "      (conv_block): Sequential(\n",
              "        (0): Conv2d(256, 256, kernel_size=(3, 3), stride=(1, 1), padding=(1, 1))\n",
              "        (1): InstanceNorm2d(256, eps=1e-05, momentum=0.1, affine=False, track_running_stats=False)\n",
              "        (2): ReLU(inplace=True)\n",
              "        (3): Conv2d(256, 256, kernel_size=(3, 3), stride=(1, 1), padding=(1, 1))\n",
              "        (4): InstanceNorm2d(256, eps=1e-05, momentum=0.1, affine=False, track_running_stats=False)\n",
              "      )\n",
              "    )\n",
              "    (15): ConvTranspose2d(256, 128, kernel_size=(4, 4), stride=(2, 2), padding=(1, 1))\n",
              "    (16): InstanceNorm2d(128, eps=1e-05, momentum=0.1, affine=False, track_running_stats=False)\n",
              "    (17): ReLU(inplace=True)\n",
              "    (18): ConvTranspose2d(128, 64, kernel_size=(4, 4), stride=(2, 2), padding=(1, 1))\n",
              "    (19): InstanceNorm2d(64, eps=1e-05, momentum=0.1, affine=False, track_running_stats=False)\n",
              "    (20): ReLU(inplace=True)\n",
              "  )\n",
              "  (color_top): Sequential(\n",
              "    (0): Conv2d(64, 3, kernel_size=(7, 7), stride=(1, 1), padding=(3, 3), bias=False)\n",
              "    (1): Tanh()\n",
              "  )\n",
              "  (au_top): Sequential(\n",
              "    (0): Conv2d(64, 1, kernel_size=(7, 7), stride=(1, 1), padding=(3, 3), bias=False)\n",
              "    (1): Sigmoid()\n",
              "  )\n",
              ")"
            ]
          },
          "metadata": {},
          "execution_count": 11
        }
      ]
    }
  ]
}